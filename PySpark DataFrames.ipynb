{
 "cells": [
  {
   "cell_type": "markdown",
   "metadata": {
    "id": "IK1nI-VcQEUw"
   },
   "source": [
    "# PySpark"
   ]
  },
  {
   "cell_type": "markdown",
   "metadata": {
    "id": "KBrsJ9WgQEU0"
   },
   "source": [
    "A quick practice on Spark DataFrame"
   ]
  },
  {
   "cell_type": "markdown",
   "metadata": {
    "id": "klOLe4_bQEU3"
   },
   "source": [
    "##### Use the walmart_stock.csv file to Answer and complete the  tasks below!"
   ]
  },
  {
   "cell_type": "markdown",
   "metadata": {
    "id": "pBTm6mJjQEU4"
   },
   "source": [
    "#### Start a simple Spark Session"
   ]
  },
  {
   "cell_type": "code",
   "execution_count": 1,
   "metadata": {},
   "outputs": [],
   "source": [
    "import findspark\n",
    "findspark.init()"
   ]
  },
  {
   "cell_type": "code",
   "execution_count": 2,
   "metadata": {
    "id": "AFIdTSZaQEU6"
   },
   "outputs": [],
   "source": [
    "from pyspark.sql import SparkSession\n",
    "spark=SparkSession.builder.getOrCreate()"
   ]
  },
  {
   "cell_type": "markdown",
   "metadata": {
    "id": "_SvK1u-xQEU7"
   },
   "source": [
    "#### Load the Walmart Stock CSV File, have Spark infer the data types."
   ]
  },
  {
   "cell_type": "code",
   "execution_count": 3,
   "metadata": {
    "id": "PFufNumHQEU8"
   },
   "outputs": [],
   "source": [
    "df =spark.read.csv('walmart_stock.csv',inferSchema=True,header=True)"
   ]
  },
  {
   "cell_type": "code",
   "execution_count": 4,
   "metadata": {},
   "outputs": [
    {
     "name": "stdout",
     "output_type": "stream",
     "text": [
      "+----------+-----------------+-----------------+-----------------+-----------------+--------+-----------------+\n",
      "|      Date|             Open|             High|              Low|            Close|  Volume|        Adj Close|\n",
      "+----------+-----------------+-----------------+-----------------+-----------------+--------+-----------------+\n",
      "|2015-01-13|        90.800003|        90.970001|            88.93|        89.309998| 8215400|        83.825448|\n",
      "|2015-01-08|        89.209999|90.66999799999999|            89.07|        90.470001|12713600|84.91421600000001|\n",
      "|2015-01-09|            90.32|        90.389999|            89.25|        89.349998| 8522500|        83.862993|\n",
      "|2015-01-12|        89.360001|        90.309998|        89.220001|        90.019997| 7372500|        84.491846|\n",
      "|2015-01-23|88.41999799999999|        89.260002|        87.889999|        88.510002| 7565800|83.07458100000001|\n",
      "|2015-01-26|        88.309998|        89.160004|        88.120003|        88.629997| 4666700|        83.187207|\n",
      "|2015-01-07|        86.779999|            88.68|86.66999799999999|        88.599998| 8498400|        83.159051|\n",
      "|2015-01-14|        87.650002|        88.519997|             86.5|        86.610001|11745600|        81.291259|\n",
      "|2015-01-27|        88.279999|        88.459999|        87.260002|        87.529999| 6020500|         82.15476|\n",
      "|2015-01-22|        87.230003|        88.400002|        86.860001|        88.300003| 7123800|        82.877478|\n",
      "|2015-01-28|        88.019997|        88.230003|        86.769997|            86.82| 5936800|        81.488362|\n",
      "|2014-11-28|            86.18|        88.089996|        85.900002|        87.540001| 7820600|81.70768000000001|\n",
      "|2015-02-06|        87.260002|             88.0|        86.779999|87.33000200000001| 5617600|        81.967045|\n",
      "|2015-01-15|             87.0|        87.779999|        86.699997|        87.379997| 9412700|         82.01397|\n",
      "|2015-01-29|            87.07|        87.720001|        86.269997|        87.720001| 6522800|82.33309399999999|\n",
      "|2015-01-20|            86.82|        87.699997|        85.550003|        86.690002| 7853100|        81.366348|\n",
      "|2015-01-16|        87.199997|        87.459999|        86.230003|        86.769997| 8408900|81.44143000000001|\n",
      "|2014-12-31|87.08000200000001|        87.440002|        85.860001|        85.879997| 4151400|        80.606085|\n",
      "|2015-02-10|        86.620003|        87.410004|86.41999799999999|        87.290001| 5732100|          81.9295|\n",
      "|2015-01-30|        86.779999|        87.360001|        84.900002|        84.980003|10280200|         79.76136|\n",
      "+----------+-----------------+-----------------+-----------------+-----------------+--------+-----------------+\n",
      "only showing top 20 rows\n",
      "\n"
     ]
    }
   ],
   "source": [
    "df.sort(['High','Low'],ascending=[False,True]).show()"
   ]
  },
  {
   "cell_type": "markdown",
   "metadata": {
    "id": "EWyuYG3HQEU9"
   },
   "source": [
    "#### What are the column names?"
   ]
  },
  {
   "cell_type": "code",
   "execution_count": 5,
   "metadata": {
    "id": "HqoXRFGuQEU-",
    "outputId": "41c6a83b-8efe-4174-accb-50d9bb1852f8"
   },
   "outputs": [
    {
     "data": {
      "text/plain": [
       "['Date', 'Open', 'High', 'Low', 'Close', 'Volume', 'Adj Close']"
      ]
     },
     "execution_count": 5,
     "metadata": {},
     "output_type": "execute_result"
    }
   ],
   "source": [
    "df.columns"
   ]
  },
  {
   "cell_type": "markdown",
   "metadata": {
    "id": "IF87H3r1QEU_"
   },
   "source": [
    "#### What does the Schema look like?"
   ]
  },
  {
   "cell_type": "code",
   "execution_count": 6,
   "metadata": {
    "id": "FaM8KQGTQEU_",
    "outputId": "c4fb9566-c093-49dc-de42-a9a382011617"
   },
   "outputs": [
    {
     "name": "stdout",
     "output_type": "stream",
     "text": [
      "root\n",
      " |-- Date: string (nullable = true)\n",
      " |-- Open: double (nullable = true)\n",
      " |-- High: double (nullable = true)\n",
      " |-- Low: double (nullable = true)\n",
      " |-- Close: double (nullable = true)\n",
      " |-- Volume: integer (nullable = true)\n",
      " |-- Adj Close: double (nullable = true)\n",
      "\n"
     ]
    }
   ],
   "source": [
    "df.printSchema()"
   ]
  },
  {
   "cell_type": "markdown",
   "metadata": {
    "id": "ixYkVStcQEVA"
   },
   "source": [
    "#### Print out the first 5 columns."
   ]
  },
  {
   "cell_type": "code",
   "execution_count": 7,
   "metadata": {
    "id": "4hWNEBxlQEVA",
    "outputId": "6a323af2-6437-4ea2-9286-c2e03dcf520f"
   },
   "outputs": [
    {
     "data": {
      "text/plain": [
       "[Row(Date='2012-01-03', Open=59.970001, High=61.060001, Low=59.869999, Close=60.330002, Volume=12668800, Adj Close=52.619234999999996),\n",
       " Row(Date='2012-01-04', Open=60.209998999999996, High=60.349998, Low=59.470001, Close=59.709998999999996, Volume=9593300, Adj Close=52.078475),\n",
       " Row(Date='2012-01-05', Open=59.349998, High=59.619999, Low=58.369999, Close=59.419998, Volume=12768200, Adj Close=51.825539),\n",
       " Row(Date='2012-01-06', Open=59.419998, High=59.450001, Low=58.869999, Close=59.0, Volume=8069400, Adj Close=51.45922),\n",
       " Row(Date='2012-01-09', Open=59.029999, High=59.549999, Low=58.919998, Close=59.18, Volume=6679300, Adj Close=51.616215000000004)]"
      ]
     },
     "execution_count": 7,
     "metadata": {},
     "output_type": "execute_result"
    }
   ],
   "source": [
    "df.head(5)"
   ]
  },
  {
   "cell_type": "markdown",
   "metadata": {
    "id": "k5biK3B4QEVB"
   },
   "source": [
    "#### Use describe() to learn about the DataFrame."
   ]
  },
  {
   "cell_type": "code",
   "execution_count": 8,
   "metadata": {
    "id": "GulzXGneQEVB",
    "outputId": "56e0e78f-1258-412b-d26a-f01749a9e4c0"
   },
   "outputs": [
    {
     "name": "stdout",
     "output_type": "stream",
     "text": [
      "+-------+----------+------------------+-----------------+-----------------+-----------------+-----------------+-----------------+\n",
      "|summary|      Date|              Open|             High|              Low|            Close|           Volume|        Adj Close|\n",
      "+-------+----------+------------------+-----------------+-----------------+-----------------+-----------------+-----------------+\n",
      "|  count|      1258|              1258|             1258|             1258|             1258|             1258|             1258|\n",
      "|   mean|      null| 72.35785375357709|72.83938807631165| 71.9186009594594|72.38844998012726|8222093.481717011|67.23883848728146|\n",
      "| stddev|      null|  6.76809024470826|6.768186808159218|6.744075756255496|6.756859163732991|  4519780.8431556|6.722609449996857|\n",
      "|    min|2012-01-03|56.389998999999996|        57.060001|        56.299999|        56.419998|          2094900|        50.363689|\n",
      "|    max|2016-12-30|         90.800003|        90.970001|            89.25|        90.470001|         80898100|84.91421600000001|\n",
      "+-------+----------+------------------+-----------------+-----------------+-----------------+-----------------+-----------------+\n",
      "\n"
     ]
    }
   ],
   "source": [
    "df.describe().show()"
   ]
  },
  {
   "cell_type": "markdown",
   "metadata": {
    "id": "p1nK57i1QEVC"
   },
   "source": [
    "## Bonus Question!\n",
    "#### There are too many decimal places for mean and stddev in the describe() dataframe. Format the numbers to just show up to two decimal places. Pay careful attention to the datatypes that .describe() returns, we didn't cover how to do this exact formatting, but we covered something very similar. [Check this link for a hint](http://spark.apache.org/docs/latest/api/python/pyspark.sql.html#pyspark.sql.Column.cast)\n",
    "\n",
    "If you get stuck on this, don't worry, just view the solutions."
   ]
  },
  {
   "cell_type": "code",
   "execution_count": 9,
   "metadata": {
    "id": "ciAYhyY7QEVC",
    "outputId": "bdec4412-7898-46ac-df9a-5205859ad82a"
   },
   "outputs": [
    {
     "name": "stdout",
     "output_type": "stream",
     "text": [
      "root\n",
      " |-- summary: string (nullable = true)\n",
      " |-- Open: string (nullable = true)\n",
      " |-- High: string (nullable = true)\n",
      " |-- Low: string (nullable = true)\n",
      " |-- Close: string (nullable = true)\n",
      " |-- Volume: string (nullable = true)\n",
      "\n"
     ]
    }
   ],
   "source": [
    "from pyspark.sql.functions import format_number\n",
    "\n",
    "summary =df .describe()\n",
    "new_df = summary.select(summary['summary'],\n",
    "                    format_number(summary['Open'].cast('float'),2).alias('Open'),\n",
    "                    format_number(summary['High'].cast('float'),2).alias('High'),\n",
    "                    format_number(summary['Low'].cast('float'),2).alias('Low'),\n",
    "                    format_number(summary['Close'].cast('float'),2).alias('Close'),\n",
    "                    format_number(summary['Volume'].cast('float'),2).alias('Volume'))\n",
    "new_df.printSchema()"
   ]
  },
  {
   "cell_type": "code",
   "execution_count": 10,
   "metadata": {
    "id": "y9QtiMvsQEVD",
    "outputId": "5e18ca18-6888-41e0-8e69-8e3aea746ee5"
   },
   "outputs": [
    {
     "name": "stdout",
     "output_type": "stream",
     "text": [
      "+-------+--------+--------+--------+--------+-------------+\n",
      "|summary|    Open|    High|     Low|   Close|       Volume|\n",
      "+-------+--------+--------+--------+--------+-------------+\n",
      "|  count|1,258.00|1,258.00|1,258.00|1,258.00|     1,258.00|\n",
      "|   mean|   72.36|   72.84|   71.92|   72.39| 8,222,093.50|\n",
      "| stddev|    6.77|    6.77|    6.74|    6.76| 4,519,781.00|\n",
      "|    min|   56.39|   57.06|   56.30|   56.42| 2,094,900.00|\n",
      "|    max|   90.80|   90.97|   89.25|   90.47|80,898,096.00|\n",
      "+-------+--------+--------+--------+--------+-------------+\n",
      "\n"
     ]
    }
   ],
   "source": [
    "new_df.show()"
   ]
  },
  {
   "cell_type": "markdown",
   "metadata": {
    "id": "9MwLgnCSQEVD"
   },
   "source": [
    "#### Create a new dataframe with a column called HV Ratio that is the ratio of the High Price versus volume of stock traded for a day."
   ]
  },
  {
   "cell_type": "code",
   "execution_count": 11,
   "metadata": {
    "id": "zgjpPZkRQEVE",
    "outputId": "c5bef4d1-866c-4c8c-bacf-cb1fae04ec82"
   },
   "outputs": [
    {
     "name": "stdout",
     "output_type": "stream",
     "text": [
      "+--------------------+\n",
      "|            HV Ratio|\n",
      "+--------------------+\n",
      "|4.819714653321546E-6|\n",
      "|6.290848613094555E-6|\n",
      "|4.669412994783916E-6|\n",
      "|7.367338463826307E-6|\n",
      "|8.915604778943901E-6|\n",
      "|8.644477436914568E-6|\n",
      "|9.351828421515645E-6|\n",
      "| 8.29141562102703E-6|\n",
      "|7.712212102001476E-6|\n",
      "|7.071764823529412E-6|\n",
      "|1.015495466386981E-5|\n",
      "|6.576354146362592...|\n",
      "| 5.90145296180676E-6|\n",
      "|8.547679455011844E-6|\n",
      "|8.420709512685392E-6|\n",
      "|1.041448341728929...|\n",
      "|8.316075414862431E-6|\n",
      "|9.721183814992126E-6|\n",
      "|8.029436027707578E-6|\n",
      "|6.307432259386365E-6|\n",
      "+--------------------+\n",
      "only showing top 20 rows\n",
      "\n"
     ]
    }
   ],
   "source": [
    "HV_df = df.withColumn('HV Ratio',df['High']/df['Volume'])\n",
    "desired_HV_df = HV_df.select('HV Ratio')\n",
    "desired_HV_df.show()"
   ]
  },
  {
   "cell_type": "markdown",
   "metadata": {
    "id": "sfOdDUdCQEVE"
   },
   "source": [
    "#### What day had the Peak High in Price?"
   ]
  },
  {
   "cell_type": "code",
   "execution_count": 12,
   "metadata": {
    "id": "FRi1idOrQEVE",
    "outputId": "264db69e-42c1-4303-b08d-21eafc1d021a"
   },
   "outputs": [
    {
     "data": {
      "text/plain": [
       "[Row(date='2015-01-13')]"
      ]
     },
     "execution_count": 12,
     "metadata": {},
     "output_type": "execute_result"
    }
   ],
   "source": [
    "from pyspark.sql.functions import max \n",
    "df.sort(df['High'].desc()).select('date').head(1)"
   ]
  },
  {
   "cell_type": "markdown",
   "metadata": {
    "id": "z_RIIXHnQEVE"
   },
   "source": [
    "#### What is the mean of the Close column?"
   ]
  },
  {
   "cell_type": "code",
   "execution_count": 13,
   "metadata": {
    "id": "_W9kgKR7QEVF",
    "outputId": "03a0eb9a-e94e-43ef-ffa6-16759c930cee"
   },
   "outputs": [
    {
     "name": "stdout",
     "output_type": "stream",
     "text": [
      "+-----------------+\n",
      "|       avg(Close)|\n",
      "+-----------------+\n",
      "|72.38844998012726|\n",
      "+-----------------+\n",
      "\n"
     ]
    }
   ],
   "source": [
    "from pyspark.sql.functions import avg\n",
    "df.select(avg(df['Close'])).alias('avg(Close)').show()"
   ]
  },
  {
   "cell_type": "markdown",
   "metadata": {
    "id": "Z8V-r7I1QEVF"
   },
   "source": [
    "#### What is the max and min of the Volume column?"
   ]
  },
  {
   "cell_type": "code",
   "execution_count": 14,
   "metadata": {
    "id": "yAklGLjPQEVG",
    "outputId": "53b59112-febd-48dd-a93c-4166467c7856"
   },
   "outputs": [
    {
     "name": "stdout",
     "output_type": "stream",
     "text": [
      "+-----------+-----------+\n",
      "|max(Volume)|min(Volume)|\n",
      "+-----------+-----------+\n",
      "|   80898100|    2094900|\n",
      "+-----------+-----------+\n",
      "\n"
     ]
    }
   ],
   "source": [
    "import pyspark.sql.functions as F\n",
    "df.select(F.max('Volume'),F.min('Volume')).show()"
   ]
  },
  {
   "cell_type": "markdown",
   "metadata": {
    "id": "VT4RVThzQEVG"
   },
   "source": [
    "#### How many days was the Close lower than 60 dollars?"
   ]
  },
  {
   "cell_type": "code",
   "execution_count": 15,
   "metadata": {
    "id": "ukyn4th3QEVG",
    "outputId": "c6764e58-6754-42d3-f527-6063f21079db"
   },
   "outputs": [
    {
     "data": {
      "text/plain": [
       "81"
      ]
     },
     "execution_count": 15,
     "metadata": {},
     "output_type": "execute_result"
    }
   ],
   "source": [
    "df.select('Close').where(df['Close']<60).count()"
   ]
  },
  {
   "cell_type": "markdown",
   "metadata": {
    "id": "7pqovtOeQEVG"
   },
   "source": [
    "#### What percentage of the time was the High greater than 80 dollars ?\n",
    "#### In other words, (Number of Days High>80)/(Total Days in the dataset)"
   ]
  },
  {
   "cell_type": "code",
   "execution_count": 16,
   "metadata": {},
   "outputs": [
    {
     "data": {
      "text/plain": [
       "9.141494435612083"
      ]
     },
     "execution_count": 16,
     "metadata": {},
     "output_type": "execute_result"
    }
   ],
   "source": [
    "(df.select('High').where(df['High']>80).count()/df.count())*100"
   ]
  },
  {
   "cell_type": "markdown",
   "metadata": {
    "id": "hhggc4nrQEVH"
   },
   "source": [
    "#### What is the Pearson correlation between High and Volume?\n",
    "#### [Hint](http://spark.apache.org/docs/latest/api/python/pyspark.sql.html#pyspark.sql.DataFrameStatFunctions.corr)"
   ]
  },
  {
   "cell_type": "code",
   "execution_count": 17,
   "metadata": {},
   "outputs": [
    {
     "name": "stdout",
     "output_type": "stream",
     "text": [
      "+-------------------+\n",
      "| corr(High, Volume)|\n",
      "+-------------------+\n",
      "|-0.3384326061737161|\n",
      "+-------------------+\n",
      "\n"
     ]
    }
   ],
   "source": [
    "df.select(F.corr(df['High'],df['Volume'])).show()"
   ]
  },
  {
   "cell_type": "markdown",
   "metadata": {
    "id": "5cUkJpW8QEVJ"
   },
   "source": [
    "#### What is the max High per year?"
   ]
  },
  {
   "cell_type": "code",
   "execution_count": 18,
   "metadata": {},
   "outputs": [
    {
     "name": "stdout",
     "output_type": "stream",
     "text": [
      "+----+---------+\n",
      "|year|max(High)|\n",
      "+----+---------+\n",
      "|2015|90.970001|\n",
      "|2013|81.370003|\n",
      "|2014|88.089996|\n",
      "|2012|77.599998|\n",
      "|2016|75.190002|\n",
      "+----+---------+\n",
      "\n"
     ]
    }
   ],
   "source": [
    "year_df = df.withColumn('Year', F.year(df['Date']))\n",
    "year_df.groupBy('year').max('High').show()"
   ]
  },
  {
   "cell_type": "markdown",
   "metadata": {
    "id": "Qzrj0hnQQEVK"
   },
   "source": [
    "#### What is the average Close for each Calendar Month?\n",
    "#### In other words, across all the years, what is the average Close price for Jan,Feb, Mar, etc... Your result will have a value for each of these months. "
   ]
  },
  {
   "cell_type": "code",
   "execution_count": 19,
   "metadata": {
    "id": "dCRHSQiJQEVK",
    "outputId": "e8688d22-090b-4b31-9d5e-dbc64196b4ba"
   },
   "outputs": [
    {
     "name": "stdout",
     "output_type": "stream",
     "text": [
      "+-----+-----------------+\n",
      "|Month|       avg(Close)|\n",
      "+-----+-----------------+\n",
      "|    1|71.44801958415842|\n",
      "|    2|  71.306804443299|\n",
      "|    3|71.77794377570092|\n",
      "|    4|72.97361900952382|\n",
      "|    5|72.30971688679247|\n",
      "|    6| 72.4953774245283|\n",
      "|    7|74.43971943925233|\n",
      "|    8|73.02981855454546|\n",
      "|    9|72.18411785294116|\n",
      "|   10|71.57854545454543|\n",
      "|   11| 72.1110893069307|\n",
      "|   12|72.84792478301885|\n",
      "+-----+-----------------+\n",
      "\n"
     ]
    }
   ],
   "source": [
    "month_df = df.withColumn('Month',F.month(df['Date']))\n",
    "month_df.groupBy('Month').avg('Close').orderBy('Month').show()"
   ]
  }
 ],
 "metadata": {
  "anaconda-cloud": {},
  "colab": {
   "name": "PySpark H.W Session 1.ipynb",
   "provenance": []
  },
  "kernelspec": {
   "display_name": "Python 3",
   "language": "python",
   "name": "python3"
  },
  "language_info": {
   "codemirror_mode": {
    "name": "ipython",
    "version": 3
   },
   "file_extension": ".py",
   "mimetype": "text/x-python",
   "name": "python",
   "nbconvert_exporter": "python",
   "pygments_lexer": "ipython3",
   "version": "3.8.5"
  }
 },
 "nbformat": 4,
 "nbformat_minor": 1
}
